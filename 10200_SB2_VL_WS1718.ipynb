{
 "cells": [
  {
   "cell_type": "markdown",
   "metadata": {},
   "source": [
    "# Stetige vs. Diskrete Verteilungen in R"
   ]
  },
  {
   "cell_type": "markdown",
   "metadata": {},
   "source": [
    "## Die Poisson-Verteilung"
   ]
  },
  {
   "cell_type": "markdown",
   "metadata": {},
   "source": [
    "Zählt die ANzahl von Ereignissen."
   ]
  },
  {
   "cell_type": "markdown",
   "metadata": {},
   "source": [
    "R - Random Sample"
   ]
  },
  {
   "cell_type": "code",
   "execution_count": 1,
   "metadata": {},
   "outputs": [
    {
     "data": {
      "text/html": [
       "<ol class=list-inline>\n",
       "\t<li>10</li>\n",
       "\t<li>3</li>\n",
       "\t<li>6</li>\n",
       "\t<li>8</li>\n",
       "\t<li>14</li>\n",
       "\t<li>7</li>\n",
       "\t<li>9</li>\n",
       "\t<li>13</li>\n",
       "\t<li>8</li>\n",
       "\t<li>9</li>\n",
       "</ol>\n"
      ],
      "text/latex": [
       "\\begin{enumerate*}\n",
       "\\item 10\n",
       "\\item 3\n",
       "\\item 6\n",
       "\\item 8\n",
       "\\item 14\n",
       "\\item 7\n",
       "\\item 9\n",
       "\\item 13\n",
       "\\item 8\n",
       "\\item 9\n",
       "\\end{enumerate*}\n"
      ],
      "text/markdown": [
       "1. 10\n",
       "2. 3\n",
       "3. 6\n",
       "4. 8\n",
       "5. 14\n",
       "6. 7\n",
       "7. 9\n",
       "8. 13\n",
       "9. 8\n",
       "10. 9\n",
       "\n",
       "\n"
      ],
      "text/plain": [
       " [1] 10  3  6  8 14  7  9 13  8  9"
      ]
     },
     "metadata": {},
     "output_type": "display_data"
    }
   ],
   "source": [
    "rpois(10, lambda = 8) "
   ]
  },
  {
   "cell_type": "markdown",
   "metadata": {},
   "source": [
    "D - Distribution"
   ]
  },
  {
   "cell_type": "code",
   "execution_count": 2,
   "metadata": {},
   "outputs": [
    {
     "data": {
      "text/html": [
       "0.0992615338315356"
      ],
      "text/latex": [
       "0.0992615338315356"
      ],
      "text/markdown": [
       "0.0992615338315356"
      ],
      "text/plain": [
       "[1] 0.09926153"
      ]
     },
     "metadata": {},
     "output_type": "display_data"
    }
   ],
   "source": [
    "dpois(10, lambda = 8)"
   ]
  },
  {
   "cell_type": "markdown",
   "metadata": {},
   "source": [
    "$\\Rightarrow$ die WKeit, dass genau 10 Ereignisse auftreten, wenn die zugrundeliegende Rate 8 ist, beträgt 0.09926"
   ]
  },
  {
   "cell_type": "markdown",
   "metadata": {},
   "source": [
    "d.h.  D ist im diskreten Fall die Wahrscheinlichkeitsfuntion."
   ]
  },
  {
   "cell_type": "markdown",
   "metadata": {},
   "source": [
    "P - Probability"
   ]
  },
  {
   "cell_type": "code",
   "execution_count": 3,
   "metadata": {},
   "outputs": [
    {
     "data": {
      "text/html": [
       "0.815885792558546"
      ],
      "text/latex": [
       "0.815885792558546"
      ],
      "text/markdown": [
       "0.815885792558546"
      ],
      "text/plain": [
       "[1] 0.8158858"
      ]
     },
     "metadata": {},
     "output_type": "display_data"
    }
   ],
   "source": [
    "ppois(10, lambda = 8)"
   ]
  },
  {
   "cell_type": "markdown",
   "metadata": {},
   "source": [
    "Hier kommt immer die Warhscinelichkeit, dass ein Wert $\\leq$ x (in diesem Fall 10) angenommen wird."
   ]
  },
  {
   "cell_type": "markdown",
   "metadata": {},
   "source": [
    "Q - Quantile"
   ]
  },
  {
   "cell_type": "code",
   "execution_count": 4,
   "metadata": {},
   "outputs": [
    {
     "data": {
      "text/html": [
       "5"
      ],
      "text/latex": [
       "5"
      ],
      "text/markdown": [
       "5"
      ],
      "text/plain": [
       "[1] 5"
      ]
     },
     "metadata": {},
     "output_type": "display_data"
    }
   ],
   "source": [
    "qpois(0.1, lambda = 8)"
   ]
  },
  {
   "cell_type": "markdown",
   "metadata": {},
   "source": [
    "d.h. dass 90% aller Werte größer und 10% aller Werte kleiner als 5 sind. "
   ]
  },
  {
   "cell_type": "markdown",
   "metadata": {},
   "source": [
    "## Exponentialverteilung."
   ]
  },
  {
   "cell_type": "markdown",
   "metadata": {},
   "source": [
    "Ist eine stetige Verteilung. Gibt das Wahrscheinlichkeitsprofil an für die Zeit, die man Warten muss, bis ein bestimmtes Ereignis eintritt. "
   ]
  },
  {
   "cell_type": "code",
   "execution_count": 5,
   "metadata": {},
   "outputs": [
    {
     "data": {
      "text/html": [
       "<ol class=list-inline>\n",
       "\t<li>35.0981006009464</li>\n",
       "\t<li>56.1655079506138</li>\n",
       "\t<li>2.43167649023235</li>\n",
       "\t<li>42.7792974908776</li>\n",
       "\t<li>70.3440899732423</li>\n",
       "\t<li>2.14986333623528</li>\n",
       "\t<li>7.59947132846128</li>\n",
       "\t<li>17.5594317159596</li>\n",
       "\t<li>6.82653167040397</li>\n",
       "\t<li>20.0351339756491</li>\n",
       "</ol>\n"
      ],
      "text/latex": [
       "\\begin{enumerate*}\n",
       "\\item 35.0981006009464\n",
       "\\item 56.1655079506138\n",
       "\\item 2.43167649023235\n",
       "\\item 42.7792974908776\n",
       "\\item 70.3440899732423\n",
       "\\item 2.14986333623528\n",
       "\\item 7.59947132846128\n",
       "\\item 17.5594317159596\n",
       "\\item 6.82653167040397\n",
       "\\item 20.0351339756491\n",
       "\\end{enumerate*}\n"
      ],
      "text/markdown": [
       "1. 35.0981006009464\n",
       "2. 56.1655079506138\n",
       "3. 2.43167649023235\n",
       "4. 42.7792974908776\n",
       "5. 70.3440899732423\n",
       "6. 2.14986333623528\n",
       "7. 7.59947132846128\n",
       "8. 17.5594317159596\n",
       "9. 6.82653167040397\n",
       "10. 20.0351339756491\n",
       "\n",
       "\n"
      ],
      "text/plain": [
       " [1] 35.098101 56.165508  2.431676 42.779297 70.344090  2.149863  7.599471\n",
       " [8] 17.559432  6.826532 20.035134"
      ]
     },
     "metadata": {},
     "output_type": "display_data"
    }
   ],
   "source": [
    "rexp(10, 1/20)"
   ]
  },
  {
   "cell_type": "markdown",
   "metadata": {},
   "source": [
    "Auch bei der Expoentialverteilung liegt ein Entstehungsprozess zugrunde der eine bestimmte Rate hat. "
   ]
  },
  {
   "cell_type": "code",
   "execution_count": 6,
   "metadata": {},
   "outputs": [
    {
     "data": {
      "text/html": [
       "<ol class=list-inline>\n",
       "\t<li>0.0819187197347403</li>\n",
       "\t<li>0.0453858584144569</li>\n",
       "\t<li>0.0323390332050622</li>\n",
       "\t<li>0.00937596403528005</li>\n",
       "\t<li>0.057957238469035</li>\n",
       "\t<li>0.0835630865725589</li>\n",
       "\t<li>0.0312558598350734</li>\n",
       "\t<li>0.000410854164510965</li>\n",
       "\t<li>0.0243658172199503</li>\n",
       "\t<li>0.00515757459150853</li>\n",
       "</ol>\n"
      ],
      "text/latex": [
       "\\begin{enumerate*}\n",
       "\\item 0.0819187197347403\n",
       "\\item 0.0453858584144569\n",
       "\\item 0.0323390332050622\n",
       "\\item 0.00937596403528005\n",
       "\\item 0.057957238469035\n",
       "\\item 0.0835630865725589\n",
       "\\item 0.0312558598350734\n",
       "\\item 0.000410854164510965\n",
       "\\item 0.0243658172199503\n",
       "\\item 0.00515757459150853\n",
       "\\end{enumerate*}\n"
      ],
      "text/markdown": [
       "1. 0.0819187197347403\n",
       "2. 0.0453858584144569\n",
       "3. 0.0323390332050622\n",
       "4. 0.00937596403528005\n",
       "5. 0.057957238469035\n",
       "6. 0.0835630865725589\n",
       "7. 0.0312558598350734\n",
       "8. 0.000410854164510965\n",
       "9. 0.0243658172199503\n",
       "10. 0.00515757459150853\n",
       "\n",
       "\n"
      ],
      "text/plain": [
       " [1] 0.0819187197 0.0453858584 0.0323390332 0.0093759640 0.0579572385\n",
       " [6] 0.0835630866 0.0312558598 0.0004108542 0.0243658172 0.0051575746"
      ]
     },
     "metadata": {},
     "output_type": "display_data"
    }
   ],
   "source": [
    "rexp(10, 20)"
   ]
  },
  {
   "cell_type": "markdown",
   "metadata": {},
   "source": [
    "D - Distributiokn"
   ]
  },
  {
   "cell_type": "code",
   "execution_count": 7,
   "metadata": {},
   "outputs": [
    {
     "data": {
      "text/html": [
       "0.0303265329856317"
      ],
      "text/latex": [
       "0.0303265329856317"
      ],
      "text/markdown": [
       "0.0303265329856317"
      ],
      "text/plain": [
       "[1] 0.03032653"
      ]
     },
     "metadata": {},
     "output_type": "display_data"
    }
   ],
   "source": [
    "dexp(10, 1/20)"
   ]
  },
  {
   "cell_type": "markdown",
   "metadata": {},
   "source": [
    "Das ist keine Wahrscheinlichkeit! "
   ]
  },
  {
   "cell_type": "markdown",
   "metadata": {},
   "source": [
    "P - Probability"
   ]
  },
  {
   "cell_type": "code",
   "execution_count": 8,
   "metadata": {},
   "outputs": [
    {
     "data": {
      "text/html": [
       "0.393469340287367"
      ],
      "text/latex": [
       "0.393469340287367"
      ],
      "text/markdown": [
       "0.393469340287367"
      ],
      "text/plain": [
       "[1] 0.3934693"
      ]
     },
     "metadata": {},
     "output_type": "display_data"
    }
   ],
   "source": [
    "pexp(10, 1/20)"
   ]
  },
  {
   "cell_type": "markdown",
   "metadata": {},
   "source": [
    "Das ist eine Wahrscheinlichkeit, nämlich die dass es weniger als 10 s dauert, bis das erste Ereignise eintritt. "
   ]
  },
  {
   "cell_type": "markdown",
   "metadata": {},
   "source": [
    "Hier hat R schon integriert. "
   ]
  },
  {
   "cell_type": "code",
   "execution_count": null,
   "metadata": {
    "collapsed": true
   },
   "outputs": [],
   "source": []
  }
 ],
 "metadata": {
  "kernelspec": {
   "display_name": "R",
   "language": "R",
   "name": "ir"
  },
  "language_info": {
   "codemirror_mode": "r",
   "file_extension": ".r",
   "mimetype": "text/x-r-source",
   "name": "R",
   "pygments_lexer": "r",
   "version": "3.5.1"
  }
 },
 "nbformat": 4,
 "nbformat_minor": 2
}
